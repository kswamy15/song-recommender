{
 "cells": [
  {
   "cell_type": "code",
   "execution_count": 1,
   "metadata": {
    "collapsed": true
   },
   "outputs": [],
   "source": [
    "# imports\n",
    "import pandas as pd\n",
    "import numpy as np\n",
    "from sklearn.metrics.pairwise import cosine_similarity\n",
    "import matplotlib.pyplot as plt\n",
    "\n",
    "# this allows plots to appear directly in the notebook\n",
    "%matplotlib inline"
   ]
  },
  {
   "cell_type": "code",
   "execution_count": 2,
   "metadata": {
    "collapsed": false
   },
   "outputs": [
    {
     "data": {
      "text/html": [
       "<div>\n",
       "<table border=\"1\" class=\"dataframe\">\n",
       "  <thead>\n",
       "    <tr style=\"text-align: right;\">\n",
       "      <th></th>\n",
       "      <th>user_id</th>\n",
       "      <th>song_id</th>\n",
       "      <th>listen_count</th>\n",
       "      <th>title</th>\n",
       "      <th>artist</th>\n",
       "      <th>song</th>\n",
       "    </tr>\n",
       "  </thead>\n",
       "  <tbody>\n",
       "    <tr>\n",
       "      <th>0</th>\n",
       "      <td>b80344d063b5ccb3212f76538f3d9e43d87dca9e</td>\n",
       "      <td>SOAKIMP12A8C130995</td>\n",
       "      <td>1</td>\n",
       "      <td>The Cove</td>\n",
       "      <td>Jack Johnson</td>\n",
       "      <td>The Cove - Jack Johnson</td>\n",
       "    </tr>\n",
       "    <tr>\n",
       "      <th>1</th>\n",
       "      <td>b80344d063b5ccb3212f76538f3d9e43d87dca9e</td>\n",
       "      <td>SOBBMDR12A8C13253B</td>\n",
       "      <td>2</td>\n",
       "      <td>Entre Dos Aguas</td>\n",
       "      <td>Paco De Lucia</td>\n",
       "      <td>Entre Dos Aguas - Paco De Lucia</td>\n",
       "    </tr>\n",
       "    <tr>\n",
       "      <th>2</th>\n",
       "      <td>b80344d063b5ccb3212f76538f3d9e43d87dca9e</td>\n",
       "      <td>SOBXHDL12A81C204C0</td>\n",
       "      <td>1</td>\n",
       "      <td>Stronger</td>\n",
       "      <td>Kanye West</td>\n",
       "      <td>Stronger - Kanye West</td>\n",
       "    </tr>\n",
       "    <tr>\n",
       "      <th>3</th>\n",
       "      <td>b80344d063b5ccb3212f76538f3d9e43d87dca9e</td>\n",
       "      <td>SOBYHAJ12A6701BF1D</td>\n",
       "      <td>1</td>\n",
       "      <td>Constellations</td>\n",
       "      <td>Jack Johnson</td>\n",
       "      <td>Constellations - Jack Johnson</td>\n",
       "    </tr>\n",
       "    <tr>\n",
       "      <th>4</th>\n",
       "      <td>b80344d063b5ccb3212f76538f3d9e43d87dca9e</td>\n",
       "      <td>SODACBL12A8C13C273</td>\n",
       "      <td>1</td>\n",
       "      <td>Learn To Fly</td>\n",
       "      <td>Foo Fighters</td>\n",
       "      <td>Learn To Fly - Foo Fighters</td>\n",
       "    </tr>\n",
       "  </tbody>\n",
       "</table>\n",
       "</div>"
      ],
      "text/plain": [
       "                                    user_id             song_id  listen_count  \\\n",
       "0  b80344d063b5ccb3212f76538f3d9e43d87dca9e  SOAKIMP12A8C130995             1   \n",
       "1  b80344d063b5ccb3212f76538f3d9e43d87dca9e  SOBBMDR12A8C13253B             2   \n",
       "2  b80344d063b5ccb3212f76538f3d9e43d87dca9e  SOBXHDL12A81C204C0             1   \n",
       "3  b80344d063b5ccb3212f76538f3d9e43d87dca9e  SOBYHAJ12A6701BF1D             1   \n",
       "4  b80344d063b5ccb3212f76538f3d9e43d87dca9e  SODACBL12A8C13C273             1   \n",
       "\n",
       "             title         artist                             song  \n",
       "0         The Cove   Jack Johnson          The Cove - Jack Johnson  \n",
       "1  Entre Dos Aguas  Paco De Lucia  Entre Dos Aguas - Paco De Lucia  \n",
       "2         Stronger     Kanye West            Stronger - Kanye West  \n",
       "3   Constellations   Jack Johnson    Constellations - Jack Johnson  \n",
       "4     Learn To Fly   Foo Fighters      Learn To Fly - Foo Fighters  "
      ]
     },
     "execution_count": 2,
     "metadata": {},
     "output_type": "execute_result"
    }
   ],
   "source": [
    "# read data into a DataFrame\n",
    "song_data = pd.read_csv('song_data.csv')\n",
    "song_data.head()"
   ]
  },
  {
   "cell_type": "code",
   "execution_count": 3,
   "metadata": {
    "collapsed": false
   },
   "outputs": [
    {
     "name": "stdout",
     "output_type": "stream",
     "text": [
      "(251302, 6)\n"
     ]
    }
   ],
   "source": [
    "# let's limit things to the top 250 songs\n",
    "n = 250\n",
    "top_n = song_data.song.value_counts().index[:n]\n",
    "song_data_top = song_data[song_data.song.isin(top_n)]\n",
    "print song_data_top.shape"
   ]
  },
  {
   "cell_type": "code",
   "execution_count": 31,
   "metadata": {
    "collapsed": false
   },
   "outputs": [
    {
     "name": "stdout",
     "output_type": "stream",
     "text": [
      "(8723, 6)\n"
     ]
    }
   ],
   "source": [
    "# collect the top 250 users from this top 250 songs data to be used as test users in the sql data\n",
    "top_users_n = song_data_top.user_id.value_counts().index[:n]\n",
    "user_data_top = song_data_top[song_data_top.user_id.isin(top_users_n)]\n",
    "print user_data_top.shape"
   ]
  },
  {
   "cell_type": "code",
   "execution_count": 41,
   "metadata": {
    "collapsed": false
   },
   "outputs": [],
   "source": [
    "user_data_top.to_csv('user_data_top.csv')"
   ]
  },
  {
   "cell_type": "code",
   "execution_count": 4,
   "metadata": {
    "collapsed": false
   },
   "outputs": [
    {
     "name": "stdout",
     "output_type": "stream",
     "text": [
      "melting...\n"
     ]
    }
   ],
   "source": [
    "print \"melting...\"\n",
    "song_wide = pd.pivot_table(song_data_top, values=[\"listen_count\"],\n",
    "                         index=[\"song\", \"user_id\"],\n",
    "                         aggfunc=np.sum).unstack()"
   ]
  },
  {
   "cell_type": "code",
   "execution_count": 5,
   "metadata": {
    "collapsed": true
   },
   "outputs": [],
   "source": [
    "# any cells that are missing data (i.e. a user didn't listen to a song)\n",
    "# we're going to set to 0\n",
    "song_wide = song_wide.fillna(0)"
   ]
  },
  {
   "cell_type": "code",
   "execution_count": 6,
   "metadata": {
    "collapsed": false
   },
   "outputs": [
    {
     "name": "stdout",
     "output_type": "stream",
     "text": [
      "calculating similarity\n"
     ]
    }
   ],
   "source": [
    "# this is the key. we're going to use cosine_similarity from scikit-learn\n",
    "# to compute the distance between all songs\n",
    "print \"calculating similarity\"\n",
    "dists = cosine_similarity(song_wide)\n",
    "\n",
    "# stuff the distance matrix into a dataframe so it's easier to operate on\n",
    "dists = pd.DataFrame(dists, columns=song_wide.index)\n",
    "\n",
    "# give the indicies (equivalent to rownames in R) the name of the product id\n",
    "dists.index = dists.columns"
   ]
  },
  {
   "cell_type": "code",
   "execution_count": 42,
   "metadata": {
    "collapsed": true
   },
   "outputs": [],
   "source": [
    "dists.to_pickle('song_similarity.pkl') "
   ]
  },
  {
   "cell_type": "code",
   "execution_count": 18,
   "metadata": {
    "collapsed": false
   },
   "outputs": [],
   "source": [
    "a = np.zeros(shape=(1,len(dists)))\n",
    "user_df = pd.DataFrame(a,columns = dists.index)"
   ]
  },
  {
   "cell_type": "code",
   "execution_count": 19,
   "metadata": {
    "collapsed": false
   },
   "outputs": [
    {
     "data": {
      "text/html": [
       "<div>\n",
       "<table border=\"1\" class=\"dataframe\">\n",
       "  <thead>\n",
       "    <tr style=\"text-align: right;\">\n",
       "      <th>song</th>\n",
       "      <th>'Till I Collapse - Eminem / Nate Dogg</th>\n",
       "      <th>16 Candles - The Crests</th>\n",
       "      <th>A Beggar On A Beach Of Gold - Mike And The Mechanics</th>\n",
       "      <th>A-Punk (Album) - Vampire Weekend</th>\n",
       "      <th>Ain't Misbehavin - Sam Cooke</th>\n",
       "      <th>Ain't No Rest For The Wicked (Original Version) - Cage The Elephant</th>\n",
       "      <th>Alejandro - Lady GaGa</th>\n",
       "      <th>All I Do Is Win (feat. T-Pain_ Ludacris_ Snoop Dogg &amp; Rick Ross) - DJ Khaled</th>\n",
       "      <th>All The Right Moves - OneRepublic</th>\n",
       "      <th>Almaz - Randy Crawford</th>\n",
       "      <th>...</th>\n",
       "      <th>Word Up! - Cameo</th>\n",
       "      <th>Yeah! - Usher Featuring Lil' Jon &amp; Ludacris</th>\n",
       "      <th>Yellow - Coldplay</th>\n",
       "      <th>You And Me (Wedding Version) - Lifehouse</th>\n",
       "      <th>You And Me Jesus - Jake Hess</th>\n",
       "      <th>You Belong With Me - Taylor Swift</th>\n",
       "      <th>You Give Love A Bad Name - Bon Jovi</th>\n",
       "      <th>You Know I'm No Good - Amy Winehouse</th>\n",
       "      <th>You're The One - Dwight Yoakam</th>\n",
       "      <th>You've Got The Love - Florence + The Machine</th>\n",
       "    </tr>\n",
       "  </thead>\n",
       "  <tbody>\n",
       "    <tr>\n",
       "      <th>0</th>\n",
       "      <td>0.0</td>\n",
       "      <td>0.0</td>\n",
       "      <td>0.0</td>\n",
       "      <td>0.0</td>\n",
       "      <td>0.0</td>\n",
       "      <td>0.0</td>\n",
       "      <td>0.0</td>\n",
       "      <td>0.0</td>\n",
       "      <td>0.0</td>\n",
       "      <td>0.0</td>\n",
       "      <td>...</td>\n",
       "      <td>0.0</td>\n",
       "      <td>0.0</td>\n",
       "      <td>0.0</td>\n",
       "      <td>0.0</td>\n",
       "      <td>0.0</td>\n",
       "      <td>0.0</td>\n",
       "      <td>0.0</td>\n",
       "      <td>0.0</td>\n",
       "      <td>0.0</td>\n",
       "      <td>0.0</td>\n",
       "    </tr>\n",
       "  </tbody>\n",
       "</table>\n",
       "<p>1 rows × 250 columns</p>\n",
       "</div>"
      ],
      "text/plain": [
       "song  'Till I Collapse - Eminem / Nate Dogg  16 Candles - The Crests  \\\n",
       "0                                       0.0                      0.0   \n",
       "\n",
       "song  A Beggar On A Beach Of Gold - Mike And The Mechanics  \\\n",
       "0                                                   0.0      \n",
       "\n",
       "song  A-Punk (Album) - Vampire Weekend  Ain't Misbehavin - Sam Cooke  \\\n",
       "0                                  0.0                           0.0   \n",
       "\n",
       "song  Ain't No Rest For The Wicked (Original Version) - Cage The Elephant  \\\n",
       "0                                                   0.0                     \n",
       "\n",
       "song  Alejandro - Lady GaGa  \\\n",
       "0                       0.0   \n",
       "\n",
       "song  All I Do Is Win (feat. T-Pain_ Ludacris_ Snoop Dogg & Rick Ross) - DJ Khaled  \\\n",
       "0                                                   0.0                              \n",
       "\n",
       "song  All The Right Moves - OneRepublic  Almaz - Randy Crawford  \\\n",
       "0                                   0.0                     0.0   \n",
       "\n",
       "song                      ...                       Word Up! - Cameo  \\\n",
       "0                         ...                                    0.0   \n",
       "\n",
       "song  Yeah! - Usher Featuring Lil' Jon & Ludacris  Yellow - Coldplay  \\\n",
       "0                                             0.0                0.0   \n",
       "\n",
       "song  You And Me (Wedding Version) - Lifehouse  You And Me Jesus - Jake Hess  \\\n",
       "0                                          0.0                           0.0   \n",
       "\n",
       "song  You Belong With Me - Taylor Swift  You Give Love A Bad Name - Bon Jovi  \\\n",
       "0                                   0.0                                  0.0   \n",
       "\n",
       "song  You Know I'm No Good - Amy Winehouse  You're The One - Dwight Yoakam  \\\n",
       "0                                      0.0                             0.0   \n",
       "\n",
       "song  You've Got The Love - Florence + The Machine  \n",
       "0                                              0.0  \n",
       "\n",
       "[1 rows x 250 columns]"
      ]
     },
     "execution_count": 19,
     "metadata": {},
     "output_type": "execute_result"
    }
   ],
   "source": [
    "user_df"
   ]
  },
  {
   "cell_type": "code",
   "execution_count": 21,
   "metadata": {
    "collapsed": false
   },
   "outputs": [],
   "source": [
    "user_data = {'16 Candles - The Crests': 2,\n",
    " 'Alejandro - Lady GaGa': 5,\n",
    " \"Yeah! - Usher Featuring Lil' Jon & Ludacris\": 1}\n",
    "for key in user_data.keys():\n",
    "    user_df.loc[0,key] = user_data[key]  "
   ]
  },
  {
   "cell_type": "code",
   "execution_count": 22,
   "metadata": {
    "collapsed": false
   },
   "outputs": [],
   "source": [
    "single_user_matrix_multiply = user_df.dot(dists)"
   ]
  },
  {
   "cell_type": "code",
   "execution_count": 27,
   "metadata": {
    "collapsed": false
   },
   "outputs": [],
   "source": [
    "single_user_matrix_transpose = single_user_matrix_multiply.transpose()\n",
    "song_reco = single_user_matrix_transpose[0].sort_values(ascending=False)\n",
    "song_reco_10 = song_reco.index[song_reco.index.isin(user_data.keys())==False][:10]"
   ]
  },
  {
   "cell_type": "code",
   "execution_count": 30,
   "metadata": {
    "collapsed": false
   },
   "outputs": [
    {
     "name": "stdout",
     "output_type": "stream",
     "text": [
      "['Love Story - Taylor Swift'\n",
      " 'Catch You Baby (Steve Pitron & Max Sanna Radio Edit) - Lonnie Gordon'\n",
      " 'Halo - Beyonc\\xc3\\xa9' 'Sehr kosmisch - Harmonia'\n",
      " \"Just Dance - Lady GaGa / Colby O'Donis\" 'Monster - Lady GaGa'\n",
      " 'Whataya Want From Me - Adam Lambert' 'Bring Me To Life - Evanescence'\n",
      " \"Nothin' On You [feat. Bruno Mars] (Album Version) - B.o.B\"\n",
      " 'Whatcha Say - Jason Derulo']\n"
     ]
    }
   ],
   "source": [
    "print song_reco_10.values"
   ]
  },
  {
   "cell_type": "code",
   "execution_count": null,
   "metadata": {
    "collapsed": true
   },
   "outputs": [],
   "source": [
    "user_wide = pd.crosstab(song_data.user_id,song_data.song,values=song_data.listen_count,\n",
    "                         aggfunc=np.sum,rownames=['user_id'], colnames=['song'])\n",
    "# any cells that are missing data (i.e. a user didn't buy a particular product)\n",
    "# we're going to set to 0\n",
    "user_wide = user_wide.fillna(0)"
   ]
  },
  {
   "cell_type": "code",
   "execution_count": null,
   "metadata": {
    "collapsed": true
   },
   "outputs": [],
   "source": [
    "user_matrix_multiply = user_wide.dot(dists)\n",
    "user_matrix_multiply.head()"
   ]
  },
  {
   "cell_type": "code",
   "execution_count": null,
   "metadata": {
    "collapsed": true
   },
   "outputs": [],
   "source": [
    "def some_fn(x):\n",
    "    if x > 0 :\n",
    "         return 0\n",
    "    else:\n",
    "          return 1"
   ]
  },
  {
   "cell_type": "code",
   "execution_count": null,
   "metadata": {
    "collapsed": true
   },
   "outputs": [],
   "source": [
    "user_song_notheard = user_wide.applymap(some_fn)\n",
    "user_multiply = user_matrix_multiply * user_song_notheard"
   ]
  },
  {
   "cell_type": "code",
   "execution_count": null,
   "metadata": {
    "collapsed": true
   },
   "outputs": [],
   "source": [
    "user_multiply_transpose = user_multiply.transpose()"
   ]
  },
  {
   "cell_type": "code",
   "execution_count": null,
   "metadata": {
    "collapsed": true
   },
   "outputs": [],
   "source": [
    "def sorted(s, num):\n",
    "    tmp = s.order(ascending=False)[:num]\n",
    "    tmp2 = pd.Series(tmp.index.values, name=tmp.name)\n",
    "    #tmp.index = range(num)\n",
    "    return tmp2"
   ]
  },
  {
   "cell_type": "code",
   "execution_count": null,
   "metadata": {
    "collapsed": true
   },
   "outputs": [],
   "source": [
    "song_recommend = user_multiply_transpose.apply(lambda x: sorted(x, 10))"
   ]
  }
 ],
 "metadata": {
  "kernelspec": {
   "display_name": "Python 2",
   "language": "python",
   "name": "python2"
  },
  "language_info": {
   "codemirror_mode": {
    "name": "ipython",
    "version": 2
   },
   "file_extension": ".py",
   "mimetype": "text/x-python",
   "name": "python",
   "nbconvert_exporter": "python",
   "pygments_lexer": "ipython2",
   "version": "2.7.5"
  }
 },
 "nbformat": 4,
 "nbformat_minor": 0
}
